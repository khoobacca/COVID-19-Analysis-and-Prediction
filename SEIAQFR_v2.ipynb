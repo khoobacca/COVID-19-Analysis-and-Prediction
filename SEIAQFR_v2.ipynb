{
 "cells": [
  {
   "cell_type": "code",
   "execution_count": 5,
   "metadata": {},
   "outputs": [
    {
     "ename": "UnsupportedPythonError",
     "evalue": "It seems your Julia and PyJulia setup are not supported.\n\nJulia executable:\n    julia\nPython interpreter and libpython used by PyCall.jl:\n    None\n    None\nPython interpreter used to import PyJulia and its libpython.\n    C:\\Users\\jorda\\AppData\\Local\\Microsoft\\WindowsApps\\PythonSoftwareFoundation.Python.3.11_qbz5n2kfra8p0\\python.exe\n    C:\\Program Files\\WindowsApps\\PythonSoftwareFoundation.Python.3.11_3.11.1520.0_x64__qbz5n2kfra8p0\\python311.dll\n\nIn Julia >= 0.7, above two paths to `libpython` have to match exactly\nin order for PyJulia to work out-of-the-box.  To configure PyCall.jl to use\nPython interpreter \"C:\\Users\\jorda\\AppData\\Local\\Microsoft\\WindowsApps\\PythonSoftwareFoundation.Python.3.11_qbz5n2kfra8p0\\python.exe\",\nrun the following code in the Python REPL:\n\n    >>> import julia\n    >>> julia.install()\n\nFor more information, see:\n\n    https://pyjulia.readthedocs.io/en/latest/troubleshooting.html\n",
     "output_type": "error",
     "traceback": [
      "\u001b[1;31m---------------------------------------------------------------------------\u001b[0m",
      "\u001b[1;31mUnsupportedPythonError\u001b[0m                    Traceback (most recent call last)",
      "Cell \u001b[1;32mIn[5], line 4\u001b[0m\n\u001b[0;32m      2\u001b[0m \u001b[39mimport\u001b[39;00m \u001b[39mnumpy\u001b[39;00m \u001b[39mas\u001b[39;00m \u001b[39mpy\u001b[39;00m\n\u001b[0;32m      3\u001b[0m \u001b[39mimport\u001b[39;00m \u001b[39mpandas\u001b[39;00m \u001b[39mas\u001b[39;00m \u001b[39mpd\u001b[39;00m\n\u001b[1;32m----> 4\u001b[0m \u001b[39mfrom\u001b[39;00m \u001b[39mdiffeqpy\u001b[39;00m \u001b[39mimport\u001b[39;00m de\n\u001b[0;32m      5\u001b[0m \u001b[39mfrom\u001b[39;00m \u001b[39mscipy\u001b[39;00m\u001b[39m.\u001b[39;00m\u001b[39mintegrate\u001b[39;00m \u001b[39mimport\u001b[39;00m odeint\n\u001b[0;32m      7\u001b[0m \u001b[39m# Define SEIAQFR set of ODE\u001b[39;00m\n",
      "File \u001b[1;32m~\\AppData\\Local\\Packages\\PythonSoftwareFoundation.Python.3.11_qbz5n2kfra8p0\\LocalCache\\local-packages\\Python311\\site-packages\\diffeqpy\\de.py:4\u001b[0m\n\u001b[0;32m      1\u001b[0m \u001b[39mimport\u001b[39;00m \u001b[39mos\u001b[39;00m\n\u001b[0;32m      2\u001b[0m \u001b[39mimport\u001b[39;00m \u001b[39msys\u001b[39;00m\n\u001b[1;32m----> 4\u001b[0m \u001b[39mfrom\u001b[39;00m \u001b[39mjulia\u001b[39;00m \u001b[39mimport\u001b[39;00m Main\n\u001b[0;32m      6\u001b[0m script_dir \u001b[39m=\u001b[39m os\u001b[39m.\u001b[39mpath\u001b[39m.\u001b[39mdirname(os\u001b[39m.\u001b[39mpath\u001b[39m.\u001b[39mrealpath(\u001b[39m__file__\u001b[39m))\n\u001b[0;32m      7\u001b[0m Main\u001b[39m.\u001b[39minclude(os\u001b[39m.\u001b[39mpath\u001b[39m.\u001b[39mjoin(script_dir, \u001b[39m\"\u001b[39m\u001b[39msetup.jl\u001b[39m\u001b[39m\"\u001b[39m))\n",
      "File \u001b[1;32m<frozen importlib._bootstrap>:1176\u001b[0m, in \u001b[0;36m_find_and_load\u001b[1;34m(name, import_)\u001b[0m\n",
      "File \u001b[1;32m<frozen importlib._bootstrap>:1147\u001b[0m, in \u001b[0;36m_find_and_load_unlocked\u001b[1;34m(name, import_)\u001b[0m\n",
      "File \u001b[1;32m<frozen importlib._bootstrap>:674\u001b[0m, in \u001b[0;36m_load_unlocked\u001b[1;34m(spec)\u001b[0m\n",
      "File \u001b[1;32m<frozen importlib._bootstrap>:634\u001b[0m, in \u001b[0;36m_load_backward_compatible\u001b[1;34m(spec)\u001b[0m\n",
      "File \u001b[1;32m~\\AppData\\Local\\Packages\\PythonSoftwareFoundation.Python.3.11_qbz5n2kfra8p0\\LocalCache\\local-packages\\Python311\\site-packages\\julia\\core.py:247\u001b[0m, in \u001b[0;36mJuliaModuleLoader.load_module\u001b[1;34m(self, fullname)\u001b[0m\n\u001b[0;32m    244\u001b[0m juliapath \u001b[39m=\u001b[39m remove_prefix(fullname, \u001b[39m\"\u001b[39m\u001b[39mjulia.\u001b[39m\u001b[39m\"\u001b[39m)\n\u001b[0;32m    245\u001b[0m \u001b[39mif\u001b[39;00m juliapath \u001b[39m==\u001b[39m \u001b[39m'\u001b[39m\u001b[39mMain\u001b[39m\u001b[39m'\u001b[39m:\n\u001b[0;32m    246\u001b[0m     \u001b[39mreturn\u001b[39;00m sys\u001b[39m.\u001b[39mmodules\u001b[39m.\u001b[39msetdefault(fullname,\n\u001b[1;32m--> 247\u001b[0m                                   JuliaMainModule(\u001b[39mself\u001b[39;49m, fullname))\n\u001b[0;32m    248\u001b[0m \u001b[39melif\u001b[39;00m \u001b[39mself\u001b[39m\u001b[39m.\u001b[39mjulia\u001b[39m.\u001b[39misafunction(juliapath):\n\u001b[0;32m    249\u001b[0m     \u001b[39mreturn\u001b[39;00m \u001b[39mself\u001b[39m\u001b[39m.\u001b[39mjulia\u001b[39m.\u001b[39meval(juliapath)\n",
      "File \u001b[1;32m~\\AppData\\Local\\Packages\\PythonSoftwareFoundation.Python.3.11_qbz5n2kfra8p0\\LocalCache\\local-packages\\Python311\\site-packages\\julia\\core.py:149\u001b[0m, in \u001b[0;36mJuliaModule.__init__\u001b[1;34m(self, loader, *args, **kwargs)\u001b[0m\n\u001b[0;32m    147\u001b[0m \u001b[39mdef\u001b[39;00m \u001b[39m__init__\u001b[39m(\u001b[39mself\u001b[39m, loader, \u001b[39m*\u001b[39margs, \u001b[39m*\u001b[39m\u001b[39m*\u001b[39mkwargs):\n\u001b[0;32m    148\u001b[0m     \u001b[39msuper\u001b[39m(JuliaModule, \u001b[39mself\u001b[39m)\u001b[39m.\u001b[39m\u001b[39m__init__\u001b[39m(\u001b[39m*\u001b[39margs, \u001b[39m*\u001b[39m\u001b[39m*\u001b[39mkwargs)\n\u001b[1;32m--> 149\u001b[0m     \u001b[39mself\u001b[39m\u001b[39m.\u001b[39m_julia \u001b[39m=\u001b[39m loader\u001b[39m.\u001b[39;49mjulia\n\u001b[0;32m    150\u001b[0m     \u001b[39mself\u001b[39m\u001b[39m.\u001b[39m__loader__ \u001b[39m=\u001b[39m loader\n",
      "File \u001b[1;32m~\\AppData\\Local\\Packages\\PythonSoftwareFoundation.Python.3.11_qbz5n2kfra8p0\\LocalCache\\local-packages\\Python311\\site-packages\\julia\\core.py:239\u001b[0m, in \u001b[0;36mJuliaModuleLoader.julia\u001b[1;34m(self)\u001b[0m\n\u001b[0;32m    237\u001b[0m \u001b[39m@property\u001b[39m\n\u001b[0;32m    238\u001b[0m \u001b[39mdef\u001b[39;00m \u001b[39mjulia\u001b[39m(\u001b[39mself\u001b[39m):\n\u001b[1;32m--> 239\u001b[0m     \u001b[39mself\u001b[39m\u001b[39m.\u001b[39m\u001b[39m__class__\u001b[39m\u001b[39m.\u001b[39mjulia \u001b[39m=\u001b[39m julia \u001b[39m=\u001b[39m Julia()\n\u001b[0;32m    240\u001b[0m     \u001b[39mreturn\u001b[39;00m julia\n",
      "File \u001b[1;32m~\\AppData\\Local\\Packages\\PythonSoftwareFoundation.Python.3.11_qbz5n2kfra8p0\\LocalCache\\local-packages\\Python311\\site-packages\\julia\\core.py:489\u001b[0m, in \u001b[0;36mJulia.__init__\u001b[1;34m(self, init_julia, jl_init_path, runtime, jl_runtime_path, debug, **julia_options)\u001b[0m\n\u001b[0;32m    483\u001b[0m logger\u001b[39m.\u001b[39mdebug(\u001b[39m\"\u001b[39m\u001b[39mcompiled_modules = \u001b[39m\u001b[39m%r\u001b[39;00m\u001b[39m\"\u001b[39m, options\u001b[39m.\u001b[39mcompiled_modules)\n\u001b[0;32m    484\u001b[0m \u001b[39mif\u001b[39;00m \u001b[39mnot\u001b[39;00m (\n\u001b[0;32m    485\u001b[0m     options\u001b[39m.\u001b[39mcompiled_modules \u001b[39m==\u001b[39m \u001b[39m\"\u001b[39m\u001b[39mno\u001b[39m\u001b[39m\"\u001b[39m\n\u001b[0;32m    486\u001b[0m     \u001b[39mor\u001b[39;00m is_compatible_python\n\u001b[0;32m    487\u001b[0m     \u001b[39mor\u001b[39;00m use_custom_sysimage\n\u001b[0;32m    488\u001b[0m ):\n\u001b[1;32m--> 489\u001b[0m     \u001b[39mraise\u001b[39;00m UnsupportedPythonError(jlinfo)\n\u001b[0;32m    491\u001b[0m \u001b[39mself\u001b[39m\u001b[39m.\u001b[39mapi\u001b[39m.\u001b[39minit_julia(options)\n\u001b[0;32m    493\u001b[0m \u001b[39m# We are assuming that `jl_is_initialized()` was true only\u001b[39;00m\n\u001b[0;32m    494\u001b[0m \u001b[39m# if this process was a Julia process (hence PyCall had\u001b[39;00m\n\u001b[0;32m    495\u001b[0m \u001b[39m# already called `atexit(Py_Finalize)`).  This is not true\u001b[39;00m\n\u001b[1;32m   (...)\u001b[0m\n\u001b[0;32m    500\u001b[0m \u001b[39m# not register the atexit hook), let's play on the safer\u001b[39;00m\n\u001b[0;32m    501\u001b[0m \u001b[39m# side for now.\u001b[39;00m\n",
      "\u001b[1;31mUnsupportedPythonError\u001b[0m: It seems your Julia and PyJulia setup are not supported.\n\nJulia executable:\n    julia\nPython interpreter and libpython used by PyCall.jl:\n    None\n    None\nPython interpreter used to import PyJulia and its libpython.\n    C:\\Users\\jorda\\AppData\\Local\\Microsoft\\WindowsApps\\PythonSoftwareFoundation.Python.3.11_qbz5n2kfra8p0\\python.exe\n    C:\\Program Files\\WindowsApps\\PythonSoftwareFoundation.Python.3.11_3.11.1520.0_x64__qbz5n2kfra8p0\\python311.dll\n\nIn Julia >= 0.7, above two paths to `libpython` have to match exactly\nin order for PyJulia to work out-of-the-box.  To configure PyCall.jl to use\nPython interpreter \"C:\\Users\\jorda\\AppData\\Local\\Microsoft\\WindowsApps\\PythonSoftwareFoundation.Python.3.11_qbz5n2kfra8p0\\python.exe\",\nrun the following code in the Python REPL:\n\n    >>> import julia\n    >>> julia.install()\n\nFor more information, see:\n\n    https://pyjulia.readthedocs.io/en/latest/troubleshooting.html\n"
     ]
    }
   ],
   "source": [
    "import matplotlib.pyplot as plt\n",
    "import numpy as py\n",
    "import pandas as pd\n",
    "from diffeqpy import de\n",
    "from scipy.integrate import odeint\n",
    "\n",
    "# Define SEIAQFR set of ODE\n",
    "def SEIAQFR(classes, params, t):\n",
    "    S, E, I, A, Q, F, R = classes\n",
    "    N, beta, alpha, p, gamma, phi, q, theta, delta, x = params\n",
    "\n",
    "    # as a function of time:\n",
    "    dS = -beta * S * I / N\n",
    "    dE = beta * S * I / N - alpha * E\n",
    "    dI = alpha * p * E + phi * (1-q) * A - gamma * I\n",
    "    dA = alpha * (1-p) * E - phi * A\n",
    "    dQ = gamma * I - theta * (1-x) * Q - delta * x * Q\n",
    "    dR = phi * q * A + theta * (1-x) * Q\n",
    "    dF = delta * x * Q\n",
    "\n",
    "    return [dS, dE, dI, dA, dQ, dR, dF]\n",
    "\n",
    "# Initial conditions\n",
    "initial_death_count = 1000\n",
    "initial_recovered = 10000\n",
    "total_population = 30000\n",
    "I0 = initial_death_count + initial_recovered\n",
    "S0 = total_population - I0\n",
    "E0 = 0\n",
    "A0 = 0\n",
    "Q0 = 0\n",
    "F0 = initial_death_count\n",
    "R0 = initial_recovered\n",
    "u0 = [S0, E0, I0, A0, Q0, R0, F0]\n",
    "\n",
    "# Parameters (sample values, adjust as needed)\n",
    "N = total_population\n",
    "beta = 0.4\n",
    "alpha = 0.1\n",
    "p = 0.6\n",
    "gamma = 0.1\n",
    "phi = 0.05\n",
    "q = 0.8\n",
    "theta = 0.05\n",
    "delta = 0.02\n",
    "x = 0.1\n",
    "params = [N, beta, alpha, p, gamma, phi, q, theta, delta, x]\n",
    "\n",
    "tspan = (0., 365.)  # Simulate for 1 year, adjust as needed\n",
    "prob = de.ode.ode23tb(SEIAQFR, tspan, u0, params)\n",
    "sol = de.solve(prob, saveat=1.)"
   ]
  },
  {
   "cell_type": "code",
   "execution_count": null,
   "metadata": {},
   "outputs": [],
   "source": [
    "# Solve diff eqns using odeint\n",
    "tspan = np.linspace(0.,365.)\n",
    "solved = odeint(SEIAQFR)"
   ]
  }
 ],
 "metadata": {
  "kernelspec": {
   "display_name": "Python 3",
   "language": "python",
   "name": "python3"
  },
  "language_info": {
   "codemirror_mode": {
    "name": "ipython",
    "version": 3
   },
   "file_extension": ".py",
   "mimetype": "text/x-python",
   "name": "python",
   "nbconvert_exporter": "python",
   "pygments_lexer": "ipython3",
   "version": "3.11.5"
  },
  "orig_nbformat": 4
 },
 "nbformat": 4,
 "nbformat_minor": 2
}
